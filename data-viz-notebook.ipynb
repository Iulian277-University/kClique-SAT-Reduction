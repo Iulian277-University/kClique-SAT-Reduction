{
 "cells": [
  {
   "cell_type": "code",
   "execution_count": 1,
   "id": "1fc0035d",
   "metadata": {},
   "outputs": [],
   "source": [
    "import numpy as np\n",
    "import pandas as pd\n",
    "import os\n",
    "\n",
    "# To plot figures\n",
    "%matplotlib inline\n",
    "import matplotlib as mpl\n",
    "import matplotlib.pyplot as plt\n",
    "mpl.rc('axes', labelsize=14)\n",
    "mpl.rc('xtick', labelsize=12)\n",
    "mpl.rc('ytick', labelsize=12)\n",
    "\n",
    "# Where to save the figures\n",
    "PROJECT_ROOT_DIR = \".\"\n",
    "CHAPTER_ID = \"tema2-aa-grafice\"\n",
    "IMAGES_PATH = os.path.join(PROJECT_ROOT_DIR, CHAPTER_ID)\n",
    "os.makedirs(IMAGES_PATH, exist_ok=True)\n",
    "\n",
    "def save_fig(fig_id, tight_layout=True, fig_extension=\"png\", resolution=300):\n",
    "    path = os.path.join(IMAGES_PATH, fig_id + \".\" + fig_extension)\n",
    "    print(\"Saving figure\", fig_id)\n",
    "    if tight_layout:\n",
    "        plt.tight_layout()\n",
    "    plt.savefig(path, format=fig_extension, dpi=resolution)"
   ]
  },
  {
   "cell_type": "code",
   "execution_count": 2,
   "id": "c914cf12",
   "metadata": {},
   "outputs": [
    {
     "data": {
      "text/html": [
       "<div>\n",
       "<style scoped>\n",
       "    .dataframe tbody tr th:only-of-type {\n",
       "        vertical-align: middle;\n",
       "    }\n",
       "\n",
       "    .dataframe tbody tr th {\n",
       "        vertical-align: top;\n",
       "    }\n",
       "\n",
       "    .dataframe thead th {\n",
       "        text-align: right;\n",
       "    }\n",
       "</style>\n",
       "<table border=\"1\" class=\"dataframe\">\n",
       "  <thead>\n",
       "    <tr style=\"text-align: right;\">\n",
       "      <th></th>\n",
       "      <th>cat</th>\n",
       "      <th>K</th>\n",
       "      <th>|V|</th>\n",
       "      <th>|E|</th>\n",
       "      <th>speedup</th>\n",
       "    </tr>\n",
       "  </thead>\n",
       "  <tbody>\n",
       "  </tbody>\n",
       "</table>\n",
       "</div>"
      ],
      "text/plain": [
       "Empty DataFrame\n",
       "Columns: [cat, K, |V|, |E|, speedup]\n",
       "Index: []"
      ]
     },
     "execution_count": 2,
     "metadata": {},
     "output_type": "execute_result"
    }
   ],
   "source": [
    "columns = {\"cat\": [],\n",
    "           \"K\": [],\n",
    "           \"|V|\": [],\n",
    "           \"|E|\": [],\n",
    "           \"speedup\": []\n",
    "          }\n",
    "df = pd.DataFrame(columns)\n",
    "df"
   ]
  },
  {
   "cell_type": "code",
   "execution_count": 3,
   "id": "5c095646",
   "metadata": {},
   "outputs": [],
   "source": [
    "cat1_KVE = [[7, 10, 40], [7, 10, 40], [7, 11, 43], [7, 13, 50]]\n",
    "cat2_KVE = [[3, 20, 54], [4, 50, 50], [3, 115, 219], [2, 150, 200], [3, 145, 277], [3, 135, 248]]\n",
    "cat3_KVE = [[4, 6, 10],[5, 6, 10], [6, 10, 20], [4, 6, 13], [5, 7, 13], [5, 7, 20], [4, 8, 15], [5, 8, 17], [6, 9, 24], [6, 10, 10]]"
   ]
  },
  {
   "cell_type": "code",
   "execution_count": 4,
   "id": "4e94cb2a",
   "metadata": {
    "scrolled": true
   },
   "outputs": [
    {
     "data": {
      "text/html": [
       "<div>\n",
       "<style scoped>\n",
       "    .dataframe tbody tr th:only-of-type {\n",
       "        vertical-align: middle;\n",
       "    }\n",
       "\n",
       "    .dataframe tbody tr th {\n",
       "        vertical-align: top;\n",
       "    }\n",
       "\n",
       "    .dataframe thead th {\n",
       "        text-align: right;\n",
       "    }\n",
       "</style>\n",
       "<table border=\"1\" class=\"dataframe\">\n",
       "  <thead>\n",
       "    <tr style=\"text-align: right;\">\n",
       "      <th></th>\n",
       "      <th>K</th>\n",
       "      <th>|V|</th>\n",
       "      <th>|E|</th>\n",
       "      <th>speedup</th>\n",
       "    </tr>\n",
       "    <tr>\n",
       "      <th>cat</th>\n",
       "      <th></th>\n",
       "      <th></th>\n",
       "      <th></th>\n",
       "      <th></th>\n",
       "    </tr>\n",
       "  </thead>\n",
       "  <tbody>\n",
       "    <tr>\n",
       "      <th>1</th>\n",
       "      <td>7.0</td>\n",
       "      <td>10.0</td>\n",
       "      <td>40.0</td>\n",
       "      <td>15.0</td>\n",
       "    </tr>\n",
       "    <tr>\n",
       "      <th>1</th>\n",
       "      <td>7.0</td>\n",
       "      <td>10.0</td>\n",
       "      <td>40.0</td>\n",
       "      <td>15.0</td>\n",
       "    </tr>\n",
       "    <tr>\n",
       "      <th>1</th>\n",
       "      <td>7.0</td>\n",
       "      <td>11.0</td>\n",
       "      <td>43.0</td>\n",
       "      <td>15.0</td>\n",
       "    </tr>\n",
       "    <tr>\n",
       "      <th>1</th>\n",
       "      <td>7.0</td>\n",
       "      <td>13.0</td>\n",
       "      <td>50.0</td>\n",
       "      <td>15.0</td>\n",
       "    </tr>\n",
       "    <tr>\n",
       "      <th>2</th>\n",
       "      <td>3.0</td>\n",
       "      <td>20.0</td>\n",
       "      <td>54.0</td>\n",
       "      <td>50.0</td>\n",
       "    </tr>\n",
       "    <tr>\n",
       "      <th>2</th>\n",
       "      <td>4.0</td>\n",
       "      <td>50.0</td>\n",
       "      <td>50.0</td>\n",
       "      <td>50.0</td>\n",
       "    </tr>\n",
       "    <tr>\n",
       "      <th>2</th>\n",
       "      <td>3.0</td>\n",
       "      <td>115.0</td>\n",
       "      <td>219.0</td>\n",
       "      <td>50.0</td>\n",
       "    </tr>\n",
       "    <tr>\n",
       "      <th>2</th>\n",
       "      <td>2.0</td>\n",
       "      <td>150.0</td>\n",
       "      <td>200.0</td>\n",
       "      <td>50.0</td>\n",
       "    </tr>\n",
       "    <tr>\n",
       "      <th>2</th>\n",
       "      <td>3.0</td>\n",
       "      <td>145.0</td>\n",
       "      <td>277.0</td>\n",
       "      <td>50.0</td>\n",
       "    </tr>\n",
       "    <tr>\n",
       "      <th>2</th>\n",
       "      <td>3.0</td>\n",
       "      <td>135.0</td>\n",
       "      <td>248.0</td>\n",
       "      <td>50.0</td>\n",
       "    </tr>\n",
       "    <tr>\n",
       "      <th>3</th>\n",
       "      <td>4.0</td>\n",
       "      <td>6.0</td>\n",
       "      <td>10.0</td>\n",
       "      <td>10.0</td>\n",
       "    </tr>\n",
       "    <tr>\n",
       "      <th>3</th>\n",
       "      <td>5.0</td>\n",
       "      <td>6.0</td>\n",
       "      <td>10.0</td>\n",
       "      <td>10.0</td>\n",
       "    </tr>\n",
       "    <tr>\n",
       "      <th>3</th>\n",
       "      <td>6.0</td>\n",
       "      <td>10.0</td>\n",
       "      <td>20.0</td>\n",
       "      <td>10.0</td>\n",
       "    </tr>\n",
       "    <tr>\n",
       "      <th>3</th>\n",
       "      <td>4.0</td>\n",
       "      <td>6.0</td>\n",
       "      <td>13.0</td>\n",
       "      <td>10.0</td>\n",
       "    </tr>\n",
       "    <tr>\n",
       "      <th>3</th>\n",
       "      <td>5.0</td>\n",
       "      <td>7.0</td>\n",
       "      <td>13.0</td>\n",
       "      <td>10.0</td>\n",
       "    </tr>\n",
       "    <tr>\n",
       "      <th>3</th>\n",
       "      <td>5.0</td>\n",
       "      <td>7.0</td>\n",
       "      <td>20.0</td>\n",
       "      <td>10.0</td>\n",
       "    </tr>\n",
       "    <tr>\n",
       "      <th>3</th>\n",
       "      <td>4.0</td>\n",
       "      <td>8.0</td>\n",
       "      <td>15.0</td>\n",
       "      <td>10.0</td>\n",
       "    </tr>\n",
       "    <tr>\n",
       "      <th>3</th>\n",
       "      <td>5.0</td>\n",
       "      <td>8.0</td>\n",
       "      <td>17.0</td>\n",
       "      <td>10.0</td>\n",
       "    </tr>\n",
       "    <tr>\n",
       "      <th>3</th>\n",
       "      <td>6.0</td>\n",
       "      <td>9.0</td>\n",
       "      <td>24.0</td>\n",
       "      <td>10.0</td>\n",
       "    </tr>\n",
       "    <tr>\n",
       "      <th>3</th>\n",
       "      <td>6.0</td>\n",
       "      <td>10.0</td>\n",
       "      <td>10.0</td>\n",
       "      <td>10.0</td>\n",
       "    </tr>\n",
       "  </tbody>\n",
       "</table>\n",
       "</div>"
      ],
      "text/plain": [
       "       K    |V|    |E|  speedup\n",
       "cat                            \n",
       "1    7.0   10.0   40.0     15.0\n",
       "1    7.0   10.0   40.0     15.0\n",
       "1    7.0   11.0   43.0     15.0\n",
       "1    7.0   13.0   50.0     15.0\n",
       "2    3.0   20.0   54.0     50.0\n",
       "2    4.0   50.0   50.0     50.0\n",
       "2    3.0  115.0  219.0     50.0\n",
       "2    2.0  150.0  200.0     50.0\n",
       "2    3.0  145.0  277.0     50.0\n",
       "2    3.0  135.0  248.0     50.0\n",
       "3    4.0    6.0   10.0     10.0\n",
       "3    5.0    6.0   10.0     10.0\n",
       "3    6.0   10.0   20.0     10.0\n",
       "3    4.0    6.0   13.0     10.0\n",
       "3    5.0    7.0   13.0     10.0\n",
       "3    5.0    7.0   20.0     10.0\n",
       "3    4.0    8.0   15.0     10.0\n",
       "3    5.0    8.0   17.0     10.0\n",
       "3    6.0    9.0   24.0     10.0\n",
       "3    6.0   10.0   10.0     10.0"
      ]
     },
     "execution_count": 4,
     "metadata": {},
     "output_type": "execute_result"
    }
   ],
   "source": [
    "for list in cat1_KVE:\n",
    "    df.loc[len(df.index)] = [\"1\"] + list + [15]\n",
    "for list in cat2_KVE:\n",
    "    df.loc[len(df.index)] = [\"2\"] + list + [50]\n",
    "for list in cat3_KVE:\n",
    "    df.loc[len(df.index)] = [\"3\"] + list + [10]\n",
    "    \n",
    "df.set_index(\"cat\", inplace=True)\n",
    "df"
   ]
  },
  {
   "cell_type": "code",
   "execution_count": 5,
   "id": "1837301b",
   "metadata": {},
   "outputs": [
    {
     "data": {
      "text/plain": [
       "array([[<AxesSubplot:title={'center':'K'}>,\n",
       "        <AxesSubplot:title={'center':'|V|'}>],\n",
       "       [<AxesSubplot:title={'center':'|E|'}>,\n",
       "        <AxesSubplot:title={'center':'speedup'}>]], dtype=object)"
      ]
     },
     "execution_count": 5,
     "metadata": {},
     "output_type": "execute_result"
    },
    {
     "data": {
      "image/png": "[encoded data removed]",
      "text/plain": [
       "<Figure size 720x576 with 4 Axes>"
      ]
     },
     "metadata": {
      "needs_background": "light"
     },
     "output_type": "display_data"
    }
   ],
   "source": [
    "df.hist(bins=25, figsize=(10,8))"
   ]
  },
  {
   "cell_type": "code",
   "execution_count": 6,
   "id": "b6d6a343",
   "metadata": {},
   "outputs": [],
   "source": [
    "cat1_df = df.iloc[:4]\n",
    "cat2_df = df.iloc[5:10]\n",
    "cat3_df = df.iloc[11:]"
   ]
  },
  {
   "cell_type": "code",
   "execution_count": 7,
   "id": "0ee6bbfd",
   "metadata": {},
   "outputs": [
    {
     "name": "stdout",
     "output_type": "stream",
     "text": [
      "Saving figure k_vs_speedup\n"
     ]
    },
    {
     "data": {
      "image/png": "[encoded data removed]",
      "text/plain": [
       "<Figure size 432x288 with 1 Axes>"
      ]
     },
     "metadata": {
      "needs_background": "light"
     },
     "output_type": "display_data"
    }
   ],
   "source": [
    "# K vs Speedup\n",
    "ax = cat1_df.plot(kind=\"scatter\", x=\"K\", y=\"speedup\", color=\"red\")     # cat1 - red\n",
    "cat2_df.plot(kind=\"scatter\", x=\"K\", y=\"speedup\", color=\"blue\", ax=ax)  # cat2 - blue\n",
    "cat3_df.plot(kind=\"scatter\", x=\"K\", y=\"speedup\", color=\"green\", ax=ax) # cat3 - green\n",
    "save_fig(\"k_vs_speedup\")"
   ]
  },
  {
   "cell_type": "code",
   "execution_count": 8,
   "id": "92c431af",
   "metadata": {},
   "outputs": [
    {
     "name": "stdout",
     "output_type": "stream",
     "text": [
      "Saving figure V_vs_speedup\n"
     ]
    },
    {
     "data": {
      "image/png": "[encoded data removed]",
      "text/plain": [
       "<Figure size 432x288 with 1 Axes>"
      ]
     },
     "metadata": {
      "needs_background": "light"
     },
     "output_type": "display_data"
    }
   ],
   "source": [
    "# |V| vs Speedup\n",
    "ax = cat1_df.plot(kind=\"scatter\", x=\"|V|\", y=\"speedup\", color=\"red\")     # cat1 - red\n",
    "cat2_df.plot(kind=\"scatter\", x=\"|V|\", y=\"speedup\", color=\"blue\", ax=ax)  # cat2 - blue\n",
    "cat3_df.plot(kind=\"scatter\", x=\"|V|\", y=\"speedup\", color=\"green\", ax=ax) # cat3 - green\n",
    "save_fig(\"V_vs_speedup\")"
   ]
  },
  {
   "cell_type": "code",
   "execution_count": 9,
   "id": "55505df5",
   "metadata": {},
   "outputs": [
    {
     "name": "stdout",
     "output_type": "stream",
     "text": [
      "Saving figure E_vs_speedup\n"
     ]
    },
    {
     "data": {
      "image/png": "[encoded data removed]",
      "text/plain": [
       "<Figure size 432x288 with 1 Axes>"
      ]
     },
     "metadata": {
      "needs_background": "light"
     },
     "output_type": "display_data"
    }
   ],
   "source": [
    "# |E| vs Speedup\n",
    "ax = cat1_df.plot(kind=\"scatter\", x=\"|E|\", y=\"speedup\", color=\"red\")     # cat1 - red\n",
    "cat2_df.plot(kind=\"scatter\", x=\"|E|\", y=\"speedup\", color=\"blue\", ax=ax)  # cat2 - blue\n",
    "cat3_df.plot(kind=\"scatter\", x=\"|E|\", y=\"speedup\", color=\"green\", ax=ax) # cat3 - green\n",
    "save_fig(\"E_vs_speedup\")"
   ]
  },
  {
   "cell_type": "code",
   "execution_count": 10,
   "id": "a107ec7c",
   "metadata": {},
   "outputs": [],
   "source": [
    "# Let's normalize the data\n",
    "from sklearn import preprocessing\n",
    "\n",
    "x = df.values\n",
    "min_max_scaler = preprocessing.MinMaxScaler()\n",
    "x_scaled = min_max_scaler.fit_transform(x)\n",
    "df_normalized = pd.DataFrame(x_scaled)"
   ]
  },
  {
   "cell_type": "code",
   "execution_count": 11,
   "id": "1e7fbd44",
   "metadata": {},
   "outputs": [],
   "source": [
    "df_normalized.rename(columns={0:\"K\", 1:\"|V|\", 2:\"|E|\", 3:\"speedup\"}, inplace=True)"
   ]
  },
  {
   "cell_type": "code",
   "execution_count": 12,
   "id": "eab4fa19",
   "metadata": {
    "scrolled": true
   },
   "outputs": [
    {
     "data": {
      "text/html": [
       "<div>\n",
       "<style scoped>\n",
       "    .dataframe tbody tr th:only-of-type {\n",
       "        vertical-align: middle;\n",
       "    }\n",
       "\n",
       "    .dataframe tbody tr th {\n",
       "        vertical-align: top;\n",
       "    }\n",
       "\n",
       "    .dataframe thead th {\n",
       "        text-align: right;\n",
       "    }\n",
       "</style>\n",
       "<table border=\"1\" class=\"dataframe\">\n",
       "  <thead>\n",
       "    <tr style=\"text-align: right;\">\n",
       "      <th></th>\n",
       "      <th>K</th>\n",
       "      <th>|V|</th>\n",
       "      <th>|E|</th>\n",
       "      <th>speedup</th>\n",
       "    </tr>\n",
       "  </thead>\n",
       "  <tbody>\n",
       "    <tr>\n",
       "      <th>0</th>\n",
       "      <td>1.0</td>\n",
       "      <td>0.027778</td>\n",
       "      <td>0.112360</td>\n",
       "      <td>0.125</td>\n",
       "    </tr>\n",
       "    <tr>\n",
       "      <th>1</th>\n",
       "      <td>1.0</td>\n",
       "      <td>0.027778</td>\n",
       "      <td>0.112360</td>\n",
       "      <td>0.125</td>\n",
       "    </tr>\n",
       "    <tr>\n",
       "      <th>2</th>\n",
       "      <td>1.0</td>\n",
       "      <td>0.034722</td>\n",
       "      <td>0.123596</td>\n",
       "      <td>0.125</td>\n",
       "    </tr>\n",
       "    <tr>\n",
       "      <th>3</th>\n",
       "      <td>1.0</td>\n",
       "      <td>0.048611</td>\n",
       "      <td>0.149813</td>\n",
       "      <td>0.125</td>\n",
       "    </tr>\n",
       "    <tr>\n",
       "      <th>4</th>\n",
       "      <td>0.2</td>\n",
       "      <td>0.097222</td>\n",
       "      <td>0.164794</td>\n",
       "      <td>1.000</td>\n",
       "    </tr>\n",
       "    <tr>\n",
       "      <th>5</th>\n",
       "      <td>0.4</td>\n",
       "      <td>0.305556</td>\n",
       "      <td>0.149813</td>\n",
       "      <td>1.000</td>\n",
       "    </tr>\n",
       "    <tr>\n",
       "      <th>6</th>\n",
       "      <td>0.2</td>\n",
       "      <td>0.756944</td>\n",
       "      <td>0.782772</td>\n",
       "      <td>1.000</td>\n",
       "    </tr>\n",
       "    <tr>\n",
       "      <th>7</th>\n",
       "      <td>0.0</td>\n",
       "      <td>1.000000</td>\n",
       "      <td>0.711610</td>\n",
       "      <td>1.000</td>\n",
       "    </tr>\n",
       "    <tr>\n",
       "      <th>8</th>\n",
       "      <td>0.2</td>\n",
       "      <td>0.965278</td>\n",
       "      <td>1.000000</td>\n",
       "      <td>1.000</td>\n",
       "    </tr>\n",
       "    <tr>\n",
       "      <th>9</th>\n",
       "      <td>0.2</td>\n",
       "      <td>0.895833</td>\n",
       "      <td>0.891386</td>\n",
       "      <td>1.000</td>\n",
       "    </tr>\n",
       "    <tr>\n",
       "      <th>10</th>\n",
       "      <td>0.4</td>\n",
       "      <td>0.000000</td>\n",
       "      <td>0.000000</td>\n",
       "      <td>0.000</td>\n",
       "    </tr>\n",
       "    <tr>\n",
       "      <th>11</th>\n",
       "      <td>0.6</td>\n",
       "      <td>0.000000</td>\n",
       "      <td>0.000000</td>\n",
       "      <td>0.000</td>\n",
       "    </tr>\n",
       "    <tr>\n",
       "      <th>12</th>\n",
       "      <td>0.8</td>\n",
       "      <td>0.027778</td>\n",
       "      <td>0.037453</td>\n",
       "      <td>0.000</td>\n",
       "    </tr>\n",
       "    <tr>\n",
       "      <th>13</th>\n",
       "      <td>0.4</td>\n",
       "      <td>0.000000</td>\n",
       "      <td>0.011236</td>\n",
       "      <td>0.000</td>\n",
       "    </tr>\n",
       "    <tr>\n",
       "      <th>14</th>\n",
       "      <td>0.6</td>\n",
       "      <td>0.006944</td>\n",
       "      <td>0.011236</td>\n",
       "      <td>0.000</td>\n",
       "    </tr>\n",
       "    <tr>\n",
       "      <th>15</th>\n",
       "      <td>0.6</td>\n",
       "      <td>0.006944</td>\n",
       "      <td>0.037453</td>\n",
       "      <td>0.000</td>\n",
       "    </tr>\n",
       "    <tr>\n",
       "      <th>16</th>\n",
       "      <td>0.4</td>\n",
       "      <td>0.013889</td>\n",
       "      <td>0.018727</td>\n",
       "      <td>0.000</td>\n",
       "    </tr>\n",
       "    <tr>\n",
       "      <th>17</th>\n",
       "      <td>0.6</td>\n",
       "      <td>0.013889</td>\n",
       "      <td>0.026217</td>\n",
       "      <td>0.000</td>\n",
       "    </tr>\n",
       "    <tr>\n",
       "      <th>18</th>\n",
       "      <td>0.8</td>\n",
       "      <td>0.020833</td>\n",
       "      <td>0.052434</td>\n",
       "      <td>0.000</td>\n",
       "    </tr>\n",
       "    <tr>\n",
       "      <th>19</th>\n",
       "      <td>0.8</td>\n",
       "      <td>0.027778</td>\n",
       "      <td>0.000000</td>\n",
       "      <td>0.000</td>\n",
       "    </tr>\n",
       "  </tbody>\n",
       "</table>\n",
       "</div>"
      ],
      "text/plain": [
       "      K       |V|       |E|  speedup\n",
       "0   1.0  0.027778  0.112360    0.125\n",
       "1   1.0  0.027778  0.112360    0.125\n",
       "2   1.0  0.034722  0.123596    0.125\n",
       "3   1.0  0.048611  0.149813    0.125\n",
       "4   0.2  0.097222  0.164794    1.000\n",
       "5   0.4  0.305556  0.149813    1.000\n",
       "6   0.2  0.756944  0.782772    1.000\n",
       "7   0.0  1.000000  0.711610    1.000\n",
       "8   0.2  0.965278  1.000000    1.000\n",
       "9   0.2  0.895833  0.891386    1.000\n",
       "10  0.4  0.000000  0.000000    0.000\n",
       "11  0.6  0.000000  0.000000    0.000\n",
       "12  0.8  0.027778  0.037453    0.000\n",
       "13  0.4  0.000000  0.011236    0.000\n",
       "14  0.6  0.006944  0.011236    0.000\n",
       "15  0.6  0.006944  0.037453    0.000\n",
       "16  0.4  0.013889  0.018727    0.000\n",
       "17  0.6  0.013889  0.026217    0.000\n",
       "18  0.8  0.020833  0.052434    0.000\n",
       "19  0.8  0.027778  0.000000    0.000"
      ]
     },
     "execution_count": 12,
     "metadata": {},
     "output_type": "execute_result"
    }
   ],
   "source": [
    "df_normalized"
   ]
  },
  {
   "cell_type": "code",
   "execution_count": 13,
   "id": "79fb6c09",
   "metadata": {},
   "outputs": [],
   "source": [
    "cat1_df_norm = df_normalized.iloc[:4]\n",
    "cat2_df_norm = df_normalized.iloc[5:10]\n",
    "cat3_df_norm = df_normalized.iloc[11:]"
   ]
  },
  {
   "cell_type": "code",
   "execution_count": 14,
   "id": "a7416a6c",
   "metadata": {
    "scrolled": true
   },
   "outputs": [
    {
     "name": "stdout",
     "output_type": "stream",
     "text": [
      "Saving figure k_normalized_vs_speedup\n"
     ]
    },
    {
     "data": {
      "image/png": "[encoded data removed]",
      "text/plain": [
       "<Figure size 432x288 with 1 Axes>"
      ]
     },
     "metadata": {
      "needs_background": "light"
     },
     "output_type": "display_data"
    }
   ],
   "source": [
    "# K_normalized vs Speedup\n",
    "ax_K = cat1_df_norm.plot(kind=\"scatter\", x=\"K\", y=\"speedup\", color=\"red\")     # cat1 - red\n",
    "cat2_df_norm.plot(kind=\"scatter\", x=\"K\", y=\"speedup\", color=\"blue\", ax=ax_K)  # cat2 - blue\n",
    "cat3_df_norm.plot(kind=\"scatter\", x=\"K\", y=\"speedup\", color=\"green\", ax=ax_K) # cat3 - green\n",
    "save_fig(\"k_normalized_vs_speedup\")"
   ]
  },
  {
   "cell_type": "code",
   "execution_count": 15,
   "id": "8b31b6c7",
   "metadata": {
    "scrolled": true
   },
   "outputs": [
    {
     "name": "stdout",
     "output_type": "stream",
     "text": [
      "Saving figure V_normalized_vs_speedup\n"
     ]
    },
    {
     "data": {
      "image/png": "[encoded data removed]",
      "text/plain": [
       "<Figure size 432x288 with 1 Axes>"
      ]
     },
     "metadata": {
      "needs_background": "light"
     },
     "output_type": "display_data"
    }
   ],
   "source": [
    "# |V|_normalized vs Speedup\n",
    "ax_V = cat1_df_norm.plot(kind=\"scatter\", x=\"|V|\", y=\"speedup\", color=\"red\")     # cat1 - red\n",
    "cat2_df_norm.plot(kind=\"scatter\", x=\"|V|\", y=\"speedup\", color=\"blue\", ax=ax_V)  # cat2 - blue\n",
    "cat3_df_norm.plot(kind=\"scatter\", x=\"|V|\", y=\"speedup\", color=\"green\", ax=ax_V) # cat3 - green\n",
    "save_fig(\"V_normalized_vs_speedup\")"
   ]
  },
  {
   "cell_type": "code",
   "execution_count": 16,
   "id": "3f6c6e5e",
   "metadata": {
    "scrolled": true
   },
   "outputs": [
    {
     "name": "stdout",
     "output_type": "stream",
     "text": [
      "Saving figure E_normalized_vs_speedup\n"
     ]
    },
    {
     "data": {
      "image/png": "[encoded data removed]",
      "text/plain": [
       "<Figure size 432x288 with 1 Axes>"
      ]
     },
     "metadata": {
      "needs_background": "light"
     },
     "output_type": "display_data"
    }
   ],
   "source": [
    "# |E|_normalized vs Speedup\n",
    "ax_E = cat1_df_norm.plot(kind=\"scatter\", x=\"|E|\", y=\"speedup\", color=\"red\")     # cat1 - red\n",
    "cat2_df_norm.plot(kind=\"scatter\", x=\"|E|\", y=\"speedup\", color=\"blue\", ax=ax_E)  # cat2 - blue\n",
    "cat3_df_norm.plot(kind=\"scatter\", x=\"|E|\", y=\"speedup\", color=\"green\", ax=ax_E) # cat3 - green\n",
    "save_fig(\"E_normalized_vs_speedup\")"
   ]
  },
  {
   "cell_type": "code",
   "execution_count": null,
   "id": "7b472aaa",
   "metadata": {},
   "outputs": [],
   "source": []
  },
  {
   "cell_type": "code",
   "execution_count": 17,
   "id": "20c3a5b3",
   "metadata": {
    "scrolled": true
   },
   "outputs": [
    {
     "name": "stdout",
     "output_type": "stream",
     "text": [
      "Saving figure V_per_k_vs_speedup\n"
     ]
    },
    {
     "data": {
      "image/png": "[encoded data removed]",
      "text/plain": [
       "<Figure size 432x288 with 1 Axes>"
      ]
     },
     "metadata": {
      "needs_background": "light"
     },
     "output_type": "display_data"
    }
   ],
   "source": [
    "# Let's combine some attributes\n",
    "df[\"|V|_per_K\"] = df[\"|V|\"]/df[\"K\"]\n",
    "\n",
    "ax = df.iloc[:4].plot(kind=\"scatter\", x=\"|V|_per_K\", y=\"speedup\", color=\"red\")       # cat1 - red\n",
    "df.iloc[5:10].plot(kind=\"scatter\", x=\"|V|_per_K\", y=\"speedup\", color=\"blue\", ax=ax)  # cat2 - blue\n",
    "df.iloc[11:].plot(kind=\"scatter\", x=\"|V|_per_K\", y=\"speedup\", color=\"green\", ax=ax)  # cat3 - green\n",
    "save_fig(\"V_per_k_vs_speedup\")"
   ]
  },
  {
   "cell_type": "code",
   "execution_count": null,
   "id": "9a2c2592",
   "metadata": {},
   "outputs": [],
   "source": []
  },
  {
   "cell_type": "code",
   "execution_count": 18,
   "id": "297d0b7f",
   "metadata": {},
   "outputs": [
    {
     "data": {
      "text/plain": [
       "array([[<AxesSubplot:xlabel='K', ylabel='K'>,\n",
       "        <AxesSubplot:xlabel='|V|', ylabel='K'>,\n",
       "        <AxesSubplot:xlabel='|E|', ylabel='K'>,\n",
       "        <AxesSubplot:xlabel='speedup', ylabel='K'>],\n",
       "       [<AxesSubplot:xlabel='K', ylabel='|V|'>,\n",
       "        <AxesSubplot:xlabel='|V|', ylabel='|V|'>,\n",
       "        <AxesSubplot:xlabel='|E|', ylabel='|V|'>,\n",
       "        <AxesSubplot:xlabel='speedup', ylabel='|V|'>],\n",
       "       [<AxesSubplot:xlabel='K', ylabel='|E|'>,\n",
       "        <AxesSubplot:xlabel='|V|', ylabel='|E|'>,\n",
       "        <AxesSubplot:xlabel='|E|', ylabel='|E|'>,\n",
       "        <AxesSubplot:xlabel='speedup', ylabel='|E|'>],\n",
       "       [<AxesSubplot:xlabel='K', ylabel='speedup'>,\n",
       "        <AxesSubplot:xlabel='|V|', ylabel='speedup'>,\n",
       "        <AxesSubplot:xlabel='|E|', ylabel='speedup'>,\n",
       "        <AxesSubplot:xlabel='speedup', ylabel='speedup'>]], dtype=object)"
      ]
     },
     "execution_count": 18,
     "metadata": {},
     "output_type": "execute_result"
    },
    {
     "data": {
      "image/png": "[encoded data removed]",
      "text/plain": [
       "<Figure size 864x576 with 16 Axes>"
      ]
     },
     "metadata": {
      "needs_background": "light"
     },
     "output_type": "display_data"
    }
   ],
   "source": [
    "# Let's visualize some correlations between the attributes\n",
    "# Isn't very usefull, because de dataset is very small\n",
    "from pandas.plotting import scatter_matrix\n",
    "\n",
    "attr = [\"K\", \"|V|\", \"|E|\", \"speedup\"]\n",
    "scatter_matrix(df[attr], figsize=(12,8))"
   ]
  },
  {
   "cell_type": "code",
   "execution_count": null,
   "id": "bc38f761",
   "metadata": {},
   "outputs": [],
   "source": []
  }
 ],
 "metadata": {
  "kernelspec": {
   "display_name": "Python 3",
   "language": "python",
   "name": "python3"
  },
  "language_info": {
   "codemirror_mode": {
    "name": "ipython",
    "version": 3
   },
   "file_extension": ".py",
   "mimetype": "text/x-python",
   "name": "python",
   "nbconvert_exporter": "python",
   "pygments_lexer": "ipython3",
   "version": "3.8.10"
  }
 },
 "nbformat": 4,
 "nbformat_minor": 5
}
